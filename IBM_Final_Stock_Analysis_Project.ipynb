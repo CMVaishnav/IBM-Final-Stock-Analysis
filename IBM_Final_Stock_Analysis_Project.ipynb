{
 "cells": [
  {
   "cell_type": "markdown",
   "metadata": {},
   "source": [
    "# Final Project: Analyzing Stock Performance and Building a Dashboard\n",
    "**IBM – Python for Data Science**\n",
    "\n",
    "**Name:** Chander Mohan\n",
    "**Date:** 2025-07-06\n",
    "---"
   ]
  },
  {
   "cell_type": "code",
   "execution_count": null,
   "metadata": {},
   "outputs": [],
   "source": [
    "# Step 1: Import Libraries\n",
    "import yfinance as yf\n",
    "import pandas as pd\n",
    "import matplotlib.pyplot as plt\n",
    "import requests\n",
    "from bs4 import BeautifulSoup\n",
    "%matplotlib inline"
   ]
  },
  {
   "cell_type": "markdown",
   "metadata": {},
   "source": [
    "## Q1: Tesla Stock Data using yfinance"
   ]
  },
  {
   "cell_type": "code",
   "execution_count": null,
   "metadata": {},
   "outputs": [],
   "source": [
    "tesla = yf.Ticker(\"TSLA\")\n",
    "tesla_data = tesla.history(period=\"max\")\n",
    "tesla_data.reset_index(inplace=True)\n",
    "tesla_data.head()"
   ]
  },
  {
   "cell_type": "markdown",
   "metadata": {},
   "source": [
    "## Q2: Tesla Revenue Data using Web Scraping"
   ]
  },
  {
   "cell_type": "code",
   "execution_count": null,
   "metadata": {},
   "outputs": [],
   "source": [
    "url = \"https://www.macrotrends.net/stocks/charts/TSLA/tesla/revenue\"\n",
    "headers = {\"User-Agent\": \"Mozilla/5.0\"}\n",
    "html = requests.get(url, headers=headers).text\n",
    "soup = BeautifulSoup(html, \"html.parser\")\n",
    "tables = soup.find_all(\"table\")\n",
    "df_list = pd.read_html(str(tables[1]))\n",
    "tesla_revenue = df_list[0]\n",
    "tesla_revenue.columns = ['Date', 'Revenue']\n",
    "tesla_revenue = tesla_revenue[tesla_revenue['Revenue'] != \"\"]\n",
    "tesla_revenue['Revenue'] = tesla_revenue['Revenue'].str.replace(r'\\$|,', '', regex=True).astype(float)\n",
    "tesla_revenue['Date'] = pd.to_datetime(tesla_revenue['Date'])\n",
    "tesla_revenue.tail()"
   ]
  },
  {
   "cell_type": "markdown",
   "metadata": {},
   "source": [
    "## Q3: GameStop Stock Data using yfinance"
   ]
  },
  {
   "cell_type": "code",
   "execution_count": null,
   "metadata": {},
   "outputs": [],
   "source": [
    "gme = yf.Ticker(\"GME\")\n",
    "gme_data = gme.history(period=\"max\")\n",
    "gme_data.reset_index(inplace=True)\n",
    "gme_data.head()"
   ]
  },
  {
   "cell_type": "markdown",
   "metadata": {},
   "source": [
    "## Q4: GameStop Revenue Data using Web Scraping"
   ]
  },
  {
   "cell_type": "code",
   "execution_count": null,
   "metadata": {},
   "outputs": [],
   "source": [
    "url = \"https://www.macrotrends.net/stocks/charts/GME/gamestop/revenue\"\n",
    "headers = {\"User-Agent\": \"Mozilla/5.0\"}\n",
    "html = requests.get(url, headers=headers).text\n",
    "soup = BeautifulSoup(html, \"html.parser\")\n",
    "tables = soup.find_all(\"table\")\n",
    "df_list = pd.read_html(str(tables[1]))\n",
    "gme_revenue = df_list[0]\n",
    "gme_revenue.columns = ['Date', 'Revenue']\n",
    "gme_revenue = gme_revenue[gme_revenue['Revenue'] != \"\"]\n",
    "gme_revenue['Revenue'] = gme_revenue['Revenue'].str.replace(r'\\$|,', '', regex=True).astype(float)\n",
    "gme_revenue['Date'] = pd.to_datetime(gme_revenue['Date'])\n",
    "gme_revenue.tail()"
   ]
  },
  {
   "cell_type": "markdown",
   "metadata": {},
   "source": [
    "## Q5: Tesla Stock Plot"
   ]
  },
  {
   "cell_type": "code",
   "execution_count": null,
   "metadata": {},
   "outputs": [],
   "source": [
    "plt.figure(figsize=(10,5))\n",
    "plt.plot(tesla_data['Date'], tesla_data['Close'])\n",
    "plt.title('Tesla Stock Price Over Time')\n",
    "plt.xlabel('Date')\n",
    "plt.ylabel('Close Price ($)')\n",
    "plt.grid(True)\n",
    "plt.show()"
   ]
  },
  {
   "cell_type": "markdown",
   "metadata": {},
   "source": [
    "## Q6: GameStop Stock Plot"
   ]
  },
  {
   "cell_type": "code",
   "execution_count": null,
   "metadata": {},
   "outputs": [],
   "source": [
    "plt.figure(figsize=(10,5))\n",
    "plt.plot(gme_data['Date'], gme_data['Close'])\n",
    "plt.title('GameStop Stock Price Over Time')\n",
    "plt.xlabel('Date')\n",
    "plt.ylabel('Close Price ($)')\n",
    "plt.grid(True)\n",
    "plt.show()"
   ]
  }
 ],
 "metadata": {
  "kernelspec": {
   "display_name": "Python 3 (ipykernel)",
   "language": "python",
   "name": "python3"
  },
  "language_info": {
   "codemirror_mode": {
    "name": "ipython",
    "version": 3
   },
   "file_extension": ".py",
   "mimetype": "text/x-python",
   "name": "python",
   "nbconvert_exporter": "python",
   "pygments_lexer": "ipython3",
   "version": "3.11.7"
  }
 },
 "nbformat": 4,
 "nbformat_minor": 4
}
